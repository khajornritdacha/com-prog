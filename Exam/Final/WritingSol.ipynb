{
 "cells": [
  {
   "cell_type": "markdown",
   "metadata": {},
   "source": [
    "# Comprog (2110101/1) Final Exam\n",
    "\n",
    "This file contains guide to writing problems of the final exam."
   ]
  },
  {
   "cell_type": "code",
   "execution_count": 52,
   "metadata": {},
   "outputs": [],
   "source": [
    "import numpy as np"
   ]
  },
  {
   "cell_type": "code",
   "execution_count": 56,
   "metadata": {},
   "outputs": [
    {
     "name": "stdout",
     "output_type": "stream",
     "text": [
      "[-1, 10, -2, 20, -3, 30, 40]\n",
      "[-1, 10, -2, 20, -3, -4, -5]\n"
     ]
    }
   ],
   "source": [
    "# Writing 01\n",
    "def zip(x, y):\n",
    "    xIdx = 0\n",
    "    yIdx = 0\n",
    "    res = []\n",
    "    while xIdx < len(x) or yIdx < len(y): # Loop until both x and y reach the ends\n",
    "        if xIdx < len(x): # Insert x before y if x still has some elements left\n",
    "            res.append(x[xIdx])\n",
    "            xIdx += 1\n",
    "        if yIdx < len(y): # Insert y if it still has some elements left\n",
    "            res.append(y[yIdx])\n",
    "            yIdx += 1\n",
    "    return res\n",
    "\n",
    "print(zip([-1, -2, -3], [10, 20, 30, 40]))\n",
    "print(zip([-1, -2, -3, -4, -5], [10, 20]))"
   ]
  },
  {
   "cell_type": "code",
   "execution_count": 61,
   "metadata": {},
   "outputs": [
    {
     "name": "stdout",
     "output_type": "stream",
     "text": [
      "You are 35 going on 37. A1B61\n"
     ]
    }
   ],
   "source": [
    "# Writing 02\n",
    "def reverse_digits(t):\n",
    "    nums = [x for x  in t if x.isnumeric()][::-1] # Create list containing only numbers in reverse order\n",
    "    idx = 0\n",
    "    ans = \"\"\n",
    "    for c in t:\n",
    "        if c.isnumeric(): # If the current element is number, then insert number from the nums(reversed order) instead\n",
    "            ans += nums[idx]\n",
    "            idx += 1\n",
    "        else: # Otherwise, just insert an element\n",
    "            ans += c\n",
    "    return ans\n",
    "\n",
    "print( reverse_digits('You are 16 going on 17. A3B53') )"
   ]
  },
  {
   "cell_type": "code",
   "execution_count": 50,
   "metadata": {},
   "outputs": [
    {
     "name": "stdout",
     "output_type": "stream",
     "text": [
      "2.2\n"
     ]
    }
   ],
   "source": [
    "# Writing Numpy 01\n",
    "def nearest(D, x):\n",
    "    # np.abs(D-x) return the difference between each number and X\n",
    "    # np.argmin() return the position of the least diffence number\n",
    "    # D[] return the value of the position that has least difference\n",
    "    return D[np.argmin(np.abs(D-x))]\n",
    "\n",
    "print(nearest(np.array([3.1, 2.2, 4.5, 9.0]), 2.1))"
   ]
  },
  {
   "cell_type": "code",
   "execution_count": 49,
   "metadata": {},
   "outputs": [
    {
     "name": "stdout",
     "output_type": "stream",
     "text": [
      "[[   5   11]\n",
      " [  50  110]\n",
      " [ 500 1100]]\n"
     ]
    }
   ],
   "source": [
    "# Writing Numpy 02\n",
    "def transform(P, a, b, c, d):\n",
    "    return np.matmul(P, np.array( [[a, c], [b, d]])) # matrix multiplication result exactly the same \n",
    "\n",
    "print(transform(\n",
    "    [[1, 2], [10, 20], [100, 200]],\n",
    "    1, 2, 3, 4\n",
    "))"
   ]
  },
  {
   "cell_type": "code",
   "execution_count": 53,
   "metadata": {},
   "outputs": [
    {
     "name": "stdout",
     "output_type": "stream",
     "text": [
      "True\n",
      "False\n"
     ]
    }
   ],
   "source": [
    "# Writing Numpy 03\n",
    "def is_magic( D ):\n",
    "    n = D.shape[0]\n",
    "    sumRow = np.sum(D, axis = 1) # Get list each of which contains sum of each row\n",
    "    sumCol = np.sum(D, axis = 0) # Get list each of which contains sum of each columns\n",
    "    def get_sum_diag( A ): # Get sum of the diagonal of the matrix\n",
    "        return np.sum( np.diag(A) )\n",
    "    sumDiag1 = get_sum_diag(D) # Get sum of the left-to-right diagonal\n",
    "    sumDiag2 = get_sum_diag(D[:, ::-1])  # Get sum of the right-to-left diagonal\n",
    "    def allSame(A): # Check if all elements in the array is the same\n",
    "        return np.all(A == A[0]) \n",
    "    \n",
    "    # Return true if and only if sum of all row, columns and diagonals are the same.\n",
    "    return allSame(sumRow) and allSame(sumCol) and sumDiag1 == sumDiag2 and sumDiag2 == sumRow[0]\n",
    "    \n",
    "print(is_magic( np.array( \n",
    "    [   [8, 11, 14, 1], \n",
    "        [13, 2, 7, 12],\n",
    "        [3, 16, 9, 6],\n",
    "        [10, 5, 4, 15] ])))\n",
    "\n",
    "print(is_magic( np.array(\n",
    "    [   [10, 1, 6],\n",
    "        [3,\t5, 7],\n",
    "        [4, 9, 2] ])))\n"
   ]
  }
 ],
 "metadata": {
  "kernelspec": {
   "display_name": "Python 3.10.1 ('env': venv)",
   "language": "python",
   "name": "python3"
  },
  "language_info": {
   "codemirror_mode": {
    "name": "ipython",
    "version": 3
   },
   "file_extension": ".py",
   "mimetype": "text/x-python",
   "name": "python",
   "nbconvert_exporter": "python",
   "pygments_lexer": "ipython3",
   "version": "3.10.1"
  },
  "orig_nbformat": 4,
  "vscode": {
   "interpreter": {
    "hash": "a72492077ca09b3fc629b1a31ee8a95f704ed04d3fbfa69484069d7d9111c1b1"
   }
  }
 },
 "nbformat": 4,
 "nbformat_minor": 2
}
