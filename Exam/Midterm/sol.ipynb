{
 "cells": [
  {
   "cell_type": "markdown",
   "metadata": {},
   "source": [
    "### Notes\n",
    "1. \"A\" < \"a\"\n",
    "2. s[-1] is not out of range\n",
    "3. a[:] give **List** as a result even if it has only 1 member\n",
    "4. List Erase Command\n",
    "   1. Remove - by value\n",
    "   2. pop - by index\n",
    "5. List Add elements\n",
    "   1. Append - create only 1 slot \n",
    "   2. **+=** - join list together\n",
    "6. \n"
   ]
  },
  {
   "cell_type": "markdown",
   "metadata": {},
   "source": [
    "### Answer\n",
    "\n",
    "   1. C  \n",
    "   2. B  \n",
    "   3. C  \n",
    "   4. A  \n",
    "   5. D  \n",
    "   6. B  \n",
    "   7. E  \n",
    "   8. E  \n",
    "   9. C\n",
    "   10. E  \n",
    "   11. E  \n",
    "   12. A  \n",
    "   13. C  \n",
    "   14. B  \n",
    "   15. D\n",
    "   16. C  \n",
    "   17. D\n",
    "   18. D\n",
    "   19. B\n",
    "   20. D\n",
    "   21. B\n",
    "   22. E\n",
    "   23. D\n",
    "   24. A\n",
    "   25. A\n",
    "   26. B\n",
    "   27. D\n",
    "   28. B\n",
    "   29. A\n",
    "   30. D\n",
    "   31. E\n",
    "   32. A\n",
    "   33. A\n",
    "   34. A\n",
    "   35. D\n",
    "   36. C\n",
    "   37. B\n",
    "   38. E\n",
    "   39. C\n",
    "   40. D"
   ]
  },
  {
   "cell_type": "code",
   "execution_count": 45,
   "metadata": {},
   "outputs": [
    {
     "name": "stdout",
     "output_type": "stream",
     "text": [
      "None True\n"
     ]
    }
   ],
   "source": [
    "# 38\n",
    "def h(ID):\n",
    "    if ID % 100 == 21:\n",
    "        return True\n",
    "print(h(326), h(821))"
   ]
  },
  {
   "cell_type": "code",
   "execution_count": 40,
   "metadata": {},
   "outputs": [
    {
     "data": {
      "text/plain": [
       "3"
      ]
     },
     "execution_count": 40,
     "metadata": {},
     "output_type": "execute_result"
    }
   ],
   "source": [
    "# 36\n",
    "def f(x):\n",
    "    if len(x) == 0: return 0\n",
    "    y = x[:]\n",
    "    y.sort()\n",
    "    c = 0\n",
    "    for i in range(len(y)-1):\n",
    "        if y[i] != y[i+1]: c += 1\n",
    "    return c\n",
    "f([1, 3, 4, 1, 3, 2, 3, 1, 4, 4, 4])"
   ]
  },
  {
   "cell_type": "code",
   "execution_count": 38,
   "metadata": {},
   "outputs": [
    {
     "name": "stdout",
     "output_type": "stream",
     "text": [
      "[0, 1, 1, 2, 2, 3, 3]\n"
     ]
    }
   ],
   "source": [
    "# 35\n",
    "x = []\n",
    "for i in range(4):\n",
    "    x.append(i)\n",
    "y = []\n",
    "for i in range(len(x)):\n",
    "    y += x[i: i+2]\n",
    "print(y)"
   ]
  },
  {
   "cell_type": "code",
   "execution_count": 37,
   "metadata": {},
   "outputs": [
    {
     "name": "stdout",
     "output_type": "stream",
     "text": [
      "[0, 0, 1, 0, 0, 1, 2]\n"
     ]
    }
   ],
   "source": [
    "# 34\n",
    "x = []\n",
    "for i in range(3):\n",
    "    x.append(i)\n",
    "y = []\n",
    "for i in range(len(x)):\n",
    "    y += y + x[i: i+1]\n",
    "print(y)"
   ]
  },
  {
   "cell_type": "code",
   "execution_count": null,
   "metadata": {},
   "outputs": [],
   "source": [
    "# 33\n",
    "x = [5, 4, 3, 2, 1]\n",
    "for i in range(len(x)):\n",
    "    y = x[i:]\n",
    "    print(y)"
   ]
  },
  {
   "cell_type": "code",
   "execution_count": 35,
   "metadata": {},
   "outputs": [
    {
     "name": "stdout",
     "output_type": "stream",
     "text": [
      "[1, 2, 3, [4, 5, 6, 4, 5, 6]]\n",
      "4\n"
     ]
    }
   ],
   "source": [
    "# 32\n",
    "n = [1, 2, 3]\n",
    "n.append([4, 5, 6] * 2)\n",
    "# n += ([4, 5, 6] * 2)\n",
    "# n += 4\n",
    "print(n)\n",
    "print(len(n))"
   ]
  },
  {
   "cell_type": "code",
   "execution_count": null,
   "metadata": {},
   "outputs": [],
   "source": [
    "# 31\n",
    "a = [1, 2, 3, 4, 5]\n",
    "# a.remove(4) # value\n",
    "# a.pop(3) # index\n",
    "# a = a[-5 : -2] + a[-1: ]\n",
    "# a = a[-2: -5]\n",
    "print(a)"
   ]
  },
  {
   "cell_type": "code",
   "execution_count": null,
   "metadata": {},
   "outputs": [],
   "source": [
    "# 30\n",
    "print([9]*2**2)\n",
    "x = []\n",
    "for i in range(4):\n",
    "    x.append([9])\n",
    "print(x)\n",
    "print([9]**2)"
   ]
  },
  {
   "cell_type": "code",
   "execution_count": null,
   "metadata": {},
   "outputs": [],
   "source": [
    "# 29\n",
    "a = [1, [2, 3], 4]\n",
    "print(a[2])\n",
    "print(a[-2])\n",
    "print(a[:])\n",
    "print(a[1:2][0])\n",
    "print(a[1:2])"
   ]
  },
  {
   "cell_type": "code",
   "execution_count": null,
   "metadata": {},
   "outputs": [],
   "source": [
    "# 27\n",
    "s = \"Tel: 081-483-3822\"\n",
    "out = \"\"\n",
    "for c in s:\n",
    "    if c in \"0123456789\":\n",
    "        out += s\n",
    "print(out)"
   ]
  },
  {
   "cell_type": "code",
   "execution_count": 15,
   "metadata": {},
   "outputs": [
    {
     "name": "stdout",
     "output_type": "stream",
     "text": [
      "True\n"
     ]
    }
   ],
   "source": [
    "# 25\n",
    "print(\"BIG\" < \"small\")"
   ]
  },
  {
   "cell_type": "code",
   "execution_count": null,
   "metadata": {},
   "outputs": [],
   "source": [
    "# 24\n",
    "s = \"Where you stand depends on where you sit\"\n",
    "c = 0\n",
    "for i in range(len(s)-1):\n",
    "    if s[i-1] == s[i+1]: c += 1\n",
    "print(c)"
   ]
  },
  {
   "cell_type": "code",
   "execution_count": null,
   "metadata": {},
   "outputs": [],
   "source": [
    "# 23\n",
    "s = \"This is a pen.\"\n",
    "print(s[0])\n",
    "s1 = s[100]"
   ]
  },
  {
   "cell_type": "code",
   "execution_count": 1,
   "metadata": {},
   "outputs": [
    {
     "name": "stdout",
     "output_type": "stream",
     "text": [
      "<class 'str'>\n"
     ]
    }
   ],
   "source": [
    "# 1\n",
    "print(type(\"123.4\"))"
   ]
  },
  {
   "cell_type": "code",
   "execution_count": null,
   "metadata": {},
   "outputs": [],
   "source": [
    "# 19\n",
    "i = 1; j = 100\n",
    "while i < j:\n",
    "    i *= 2; j //= 2\n",
    "    print(i, j)\n",
    "print(\"done\")"
   ]
  },
  {
   "cell_type": "code",
   "execution_count": null,
   "metadata": {},
   "outputs": [],
   "source": [
    "# 20\n",
    "for i in range(-4, -30, -5):\n",
    "    print(i)"
   ]
  },
  {
   "cell_type": "code",
   "execution_count": null,
   "metadata": {},
   "outputs": [],
   "source": [
    "# 21\n",
    "for i in range(10, 345, 7):\n",
    "    if i % 10 == 3: break\n",
    "    print(i)"
   ]
  },
  {
   "cell_type": "code",
   "execution_count": 9,
   "metadata": {},
   "outputs": [
    {
     "name": "stdout",
     "output_type": "stream",
     "text": [
      "200\n"
     ]
    }
   ],
   "source": [
    "# 22\n",
    "x = [0, 1, 2] * 100\n",
    "s = 0\n",
    "for e in x[2::3]:\n",
    "    s += e\n",
    "print(s)"
   ]
  }
 ],
 "metadata": {
  "kernelspec": {
   "display_name": "Python 3.10.1 ('env': venv)",
   "language": "python",
   "name": "python3"
  },
  "language_info": {
   "codemirror_mode": {
    "name": "ipython",
    "version": 3
   },
   "file_extension": ".py",
   "mimetype": "text/x-python",
   "name": "python",
   "nbconvert_exporter": "python",
   "pygments_lexer": "ipython3",
   "version": "3.10.1"
  },
  "orig_nbformat": 4,
  "vscode": {
   "interpreter": {
    "hash": "a72492077ca09b3fc629b1a31ee8a95f704ed04d3fbfa69484069d7d9111c1b1"
   }
  }
 },
 "nbformat": 4,
 "nbformat_minor": 2
}
