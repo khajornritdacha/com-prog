{
  "cells": [
    {
      "cell_type": "markdown",
      "metadata": {
        "id": "EsX9HcswkMhh"
      },
      "source": [
        "# Workshop 2.1 : web parsing with str functions\n",
        "We will crawl data from https://www.chula.ac.th/en/academics/faculties-and-schools/\n",
        "\n",
        "which is mirrored here https://comprogchula.github.io/\n",
        "\n",
        "<img src =\"https://github.com/Mixelon-tera/Workshop2_Datascraping_Resource/raw/master/source/intro_scraping.png\" width=\"800\">"
      ]
    },
    {
      "cell_type": "code",
      "execution_count": 13,
      "metadata": {
        "id": "3pkX1wP3kMhi"
      },
      "outputs": [
        {
          "name": "stdout",
          "output_type": "stream",
          "text": [
            "D:\\DCode\\comprog\\Workshop\\W2\n"
          ]
        }
      ],
      "source": [
        "import urllib\n",
        "import urllib.request as urq\n",
        "import os\n",
        "\n",
        "dir_path = os.path.dirname(os.path.realpath(\"__file__\"))\n",
        "print(dir_path)\n"
      ]
    },
    {
      "cell_type": "markdown",
      "metadata": {
        "id": "F59BwNdMieQw"
      },
      "source": [
        "### Tip! \n",
        " \n",
        "#### สำหรับเรื่อง string ในภาษา python ต้องระวังเรื่อง escape character เรามักจะใช้เครื่องหมาย \\ นำหน้า escape character ดังนี้\n",
        "\n",
        "<img src=\"https://i2.wp.com/www.techpaste.com/wp-content/uploads/2014/06/Escape_Characters_Python.jpg?fit=441%2C425&ssl=1\" width=400>"
      ]
    },
    {
      "cell_type": "markdown",
      "metadata": {
        "id": "9a5vdLTmkMhl"
      },
      "source": [
        "# TO DO 1 : Crawl \"Faculty Name\" [only 19 faculties] (1%)"
      ]
    },
    {
      "cell_type": "markdown",
      "metadata": {
        "id": "UGZp9qD8kMhm"
      },
      "source": [
        "Print all Faculty name in Chulalongkorn University\n",
        "and print Number of Faculties like below image\n",
        "\n",
        "<img src=\"https://github.com/Mixelon-tera/Workshop2_Datascraping_Resource/raw/master/source/fac_name.png\" width=300>\n",
        "\n",
        "<img src=\"https://github.com/Mixelon-tera/Workshop2_Datascraping_Resource/raw/master/source/number_faculty.png\" width=300>"
      ]
    },
    {
      "cell_type": "code",
      "execution_count": 5,
      "metadata": {
        "id": "tF2I-cQFkMhn"
      },
      "outputs": [
        {
          "name": "stdout",
          "output_type": "stream",
          "text": [
            "19\n",
            "Faculty of Allied Health Sciences\n",
            "Faculty of Architecture\n",
            "Faculty of Arts\n",
            "Faculty of Commerce and Accountancy\n",
            "Faculty of Communication Arts\n",
            "Faculty of Dentistry\n",
            "Faculty of Economics\n",
            "Faculty of Education\n",
            "Faculty of Engineering\n",
            "Faculty of Fine and Applied Arts\n",
            "Faculty of Law\n",
            "Faculty of Medicine\n",
            "Faculty of Nursing\n",
            "Faculty of Pharmaceutical Sciences\n",
            "Faculty of Political Science\n",
            "Faculty of Psychology\n",
            "Faculty of Science\n",
            "Faculty of Sports Science\n",
            "Faculty of Veterinary Science\n"
          ]
        }
      ],
      "source": [
        "### บางเว็บไซต์เราไม่สามารถใช้ urlopen ได้ตรงๆ เนื่องจากเว็บมีการป้องกันไว้ วิธีการแก้เบื้องต้นคือการใส่ header เพื่อหลอกเว็บไซต์ว่าเรากำลังใช้เว็บในการ request ข้อมูลเพจ ###\n",
        "### แต่ในการบ้านวันนี้เราสามารถใส่ url ลงใน urlopen ได้ตรงๆเลย เพราะเว็บไม่ได้มีการป้องกันไว้ ###\n",
        "\n",
        "url = 'https://comprogchula.github.io/'\n",
        "html = str(urq.urlopen(url).read().decode('utf-8'))\n",
        "\n",
        "# ---- TO DO 1 : Code Here ----\n",
        "\n",
        "idx = -1\n",
        "limitSection = -1\n",
        "facultyList = []\n",
        "while True:\n",
        "    idx = html.find(\"Faculty of\", idx+1, limitSection)\n",
        "\n",
        "    if limitSection == -1:\n",
        "        limitSection = html.find(\"</section>\", idx+1)\n",
        "    \n",
        "    # print(limitSection)\n",
        "\n",
        "    if idx == -1:\n",
        "        break\n",
        "\n",
        "    endIdx = html.find(\"</a>\", idx+1, limitSection)\n",
        "\n",
        "    facultyList.append(html[idx: endIdx])\n",
        "    # print(facultyList[-1])\n",
        "\n",
        "    idx = endIdx\n",
        "    \n",
        "print(len(facultyList))\n",
        "for fac in facultyList:\n",
        "    print(fac)\n",
        "\n"
      ]
    },
    {
      "cell_type": "markdown",
      "metadata": {
        "id": "4J3G2YYEkMhq"
      },
      "source": [
        "# TO DO 2 : Crawl \"Faculty and Schools Image\" [21 faculties and schools] (1%)\n",
        "\n",
        "Print image's url and save image into folder 'faculty_image'\n",
        "\n",
        "#### Hint : save images into -> dir_path+\"/faculty_image\"+faculty_name\n",
        "\n",
        "<img src=\"https://github.com/pjumruspun/ComProg2021-Workshop/blob/main/Workshop-02-Scraping/images.png?raw=true\" width=600>\n",
        "\n",
        "<img src=\"https://github.com/pjumruspun/ComProg2021-Workshop/blob/main/Workshop-02-Scraping/images_dir.png?raw=true\" width=600>"
      ]
    },
    {
      "cell_type": "code",
      "execution_count": 6,
      "metadata": {
        "id": "z7XGFlJ972N3"
      },
      "outputs": [
        {
          "name": "stderr",
          "output_type": "stream",
          "text": [
            "A subdirectory or file faculty_image already exists.\n"
          ]
        }
      ],
      "source": [
        "#สร้าง folder ชื่อ faculty_image\n",
        "\n",
        "!mkdir faculty_image\n",
        "stFacIdx = html.find(\"page-body\")\n",
        "edFacIdx = html.find(\"</section>\", stFacIdx+1)\n",
        "\n",
        "imgNameList = []\n",
        "idx = stFacIdx\n",
        "# print(html[stFacIdx:])\n",
        "while True:\n",
        "    idx = html.find(\"data-src=\", idx)\n",
        "\n",
        "    if idx == -1 or idx > edFacIdx:\n",
        "        break\n",
        "    endIdx = html.find(\".jpg\", idx+7)\n",
        "    # print(html[idx:endIdx+4])\n",
        "    \n",
        "    # print(html[idx:endIdx])\n",
        "    # print(imgNameList[-1])\n",
        "    imgNameList.append(html[idx:endIdx+4].strip(\"data-srcset=\\\"\"))\n",
        "    idx = endIdx\n"
      ]
    },
    {
      "cell_type": "markdown",
      "metadata": {
        "id": "6egHZ54tTMX2"
      },
      "source": [
        "### ขั้นตอนการอ่านและบันทึกไฟล์ภาพ\n",
        "\n",
        "1. อ่านภาพจากลิงค์\n",
        "* d = url.urlopen( [ลิงค์ของภาพ] )\n",
        "---\n",
        "2. สร้างไฟล์พร้อมระบุตำแหน่งที่จะเก็บไฟล์ภาพ \n",
        "* l = open( [ระบุตำแหน่งที่จะเก็บภาพ] )\n",
        "---\n",
        "\n",
        "3. บันทึกข้อมูลภาพไปยังตำแหน่งที่เก็บไฟล์ตามที่ระบุไว้ในข้อ (2.)\n",
        "* l.write(d.read())\n",
        "---\n",
        "\n",
        "4. ปิดไฟล์\n",
        "* l.close()\n",
        "---\n"
      ]
    },
    {
      "cell_type": "code",
      "execution_count": 7,
      "metadata": {
        "id": "2JSrIjIHkMhq"
      },
      "outputs": [
        {
          "name": "stdout",
          "output_type": "stream",
          "text": [
            "22\n",
            "https://comprogchula.github.io/image/chula-faculty-allied-health-sciences-hero-desktop-1024x640.jpg\n",
            "chula-faculty-allied-health-sciences-hero-desktop-1024x640.jpg\n",
            "https://comprogchula.github.io/image/architecture-hero-1440x900-1024x640.jpg\n",
            "architecture-hero-1440x900-1024x640.jpg\n",
            "https://comprogchula.github.io/image/chula-faculty-arts-hero-desktop-1024x640.jpg\n",
            "chula-faculty-arts-hero-desktop-1024x640.jpg\n",
            "https://comprogchula.github.io/image/chula-faculty-commerce-and-accountancy-hero-desktop-1024x640.jpg\n",
            "chula-faculty-commerce-and-accountancy-hero-desktop-1024x640.jpg\n",
            "https://comprogchula.github.io/image/chula-faculty-communication-arts-hero-desktop-1024x640.jpg\n",
            "chula-faculty-communication-arts-hero-desktop-1024x640.jpg\n",
            "https://comprogchula.github.io/image/chula-faculty-dentistry-hero-desktop-1024x640.jpg\n",
            "chula-faculty-dentistry-hero-desktop-1024x640.jpg\n",
            "https://comprogchula.github.io/image/chula-faculty-economics-hero-desktop-1024x640.jpg\n",
            "chula-faculty-economics-hero-desktop-1024x640.jpg\n",
            "https://comprogchula.github.io/image/chula-faculty-education-hero-desktop-1024x640.jpg\n",
            "chula-faculty-education-hero-desktop-1024x640.jpg\n",
            "https://comprogchula.github.io/image/chula-faculty-engineering-hero-desktop-1024x640.jpg\n",
            "chula-faculty-engineering-hero-desktop-1024x640.jpg\n",
            "https://comprogchula.github.io/image/faculty-of-fine-and-applied-arts-hero-desktop-1024x640.jpg\n",
            "faculty-of-fine-and-applied-arts-hero-desktop-1024x640.jpg\n",
            "https://comprogchula.github.io/image/chula-faculty-law-hero-desktop-1024x640.jpg\n",
            "chula-faculty-law-hero-desktop-1024x640.jpg\n",
            "https://comprogchula.github.io/image/chula-faculty-medicine-hero-desktop-1024x640.jpg\n",
            "chula-faculty-medicine-hero-desktop-1024x640.jpg\n",
            "https://comprogchula.github.io/image/chula-faculty-nursing-hero-desktop-1024x640.jpg\n",
            "chula-faculty-nursing-hero-desktop-1024x640.jpg\n",
            "https://comprogchula.github.io/image/chula-faculty-pharmaceutical-sciences-hero-desktop-01-1024x640.jpg\n",
            "chula-faculty-pharmaceutical-sciences-hero-desktop-01-1024x640.jpg\n",
            "https://comprogchula.github.io/image/chula-faculty-political-science-hero-desktop-1024x640.jpg\n",
            "chula-faculty-political-science-hero-desktop-1024x640.jpg\n",
            "https://comprogchula.github.io/image/chula-faculty-psychology-hero-desktop-1024x640.jpg\n",
            "chula-faculty-psychology-hero-desktop-1024x640.jpg\n",
            "https://comprogchula.github.io/image/chula-faculty-science-hero-desktop-2-1024x640.jpg\n",
            "chula-faculty-science-hero-desktop-2-1024x640.jpg\n",
            "https://comprogchula.github.io/image/chula-faculty-sports-science-hero-desktop-1024x640.jpg\n",
            "chula-faculty-sports-science-hero-desktop-1024x640.jpg\n",
            "https://comprogchula.github.io/image/chula-faculty-veterinary-science-hero-desktop-1024x640.jpg\n",
            "chula-faculty-veterinary-science-hero-desktop-1024x640.jpg\n",
            "https://comprogchula.github.io/image/school-of-integrated-building-1024x640.jpg\n",
            "school-of-integrated-building-1024x640.jpg\n",
            "https://comprogchula.github.io/image/school-of-agricultural-hero-desktop-1024x640.jpg\n",
            "school-of-agricultural-hero-desktop-1024x640.jpg\n",
            "https://comprogchula.github.io/image/chula-faculty-graduate-school-hero-desktop-1024x640.jpg\n",
            "chula-faculty-graduate-school-hero-desktop-1024x640.jpg\n"
          ]
        }
      ],
      "source": [
        "# ---- TO DO 2 : Code Here ----\n",
        "# imgNameList\n",
        "imagePath = dir_path+\"\\\\faculty_image\\\\\"\n",
        "\n",
        "print(len(imgNameList))\n",
        "for name in imgNameList:\n",
        "    d = urq.urlopen(name)\n",
        "\n",
        "    print(name)\n",
        "    imgName = name[name.find(\"/image\")+7:]\n",
        "    print(imgName)\n",
        "\n",
        "    l = open(imagePath+imgName, \"wb\")\n",
        "    l.write(d.read())\n",
        "    l.close()\n",
        "\n",
        "\n",
        "\n",
        "\n",
        "\n"
      ]
    },
    {
      "cell_type": "markdown",
      "metadata": {
        "id": "wu9Lq8EYm_4O"
      },
      "source": [
        "# TO DO 3 : Crawl \"Faculty Telephone Number\" [19 Faculties] (1%)\n",
        "\n",
        "Print Tel. of each faculty in Chulalongkorn University\n",
        "\n",
        "*** Only Faculty ***\n",
        "\n",
        "<img src=\"https://github.com/pjumruspun/ComProg2021-Workshop/blob/main/Workshop-02-Scraping/tel.png?raw=true\" width=450>"
      ]
    },
    {
      "cell_type": "code",
      "execution_count": 8,
      "metadata": {
        "id": "7CUSb9KvkMht"
      },
      "outputs": [
        {
          "name": "stdout",
          "output_type": "stream",
          "text": [
            "faculty-of-allied-health-sciences-chulalongkorn-university.html\n",
            "\t0 2218 1065\n",
            "faculty-of-architecture-chulalongkorn-university.html\n",
            "\t0 2218 4302\n",
            "faculty-of-arts-chulalongkorn-university.html\n",
            "\t0 2218 4870\n",
            "faculty-of-commerce-and-accountancy-chulalongkorn-university.html\n",
            "\t0 2218 5758\n",
            "faculty-of-communication-arts-chulalongkorn-university.html\n",
            "\t0 2218 2215 ext. 0\n",
            "faculty-of-dentistry-chulalongkorn-university.html\n",
            "\t0 2218 8635, 0 2218 8653, 0 2218 9016\n",
            "faculty-of-economics-chulalongkorn-university.html\n",
            "\t0 2218 6259\n",
            "faculty-of-education-chulalongkorn-university.html\n",
            "\t0 2218 2565 ext. 6760\n",
            "faculty-of-engineering-chulalongkorn-university.html\n",
            "\t0 2218 6337\n",
            "faculty-of-fine-and-applied-arts-chulalongkorn-university.html\n",
            "\t0 2218 4583\n",
            "faculty-of-law-chulalongkorn-university.html\n",
            "\t0 2218 2017\n",
            "faculty-of-medicine-chulalongkorn-university.html\n",
            "\t0 2256 4288, 0 2256 4000 ext. 3404\n",
            "faculty-of-nursing-chulalongkorn-university.html\n",
            "\t0 2218 1131\n",
            "faculty-of-pharmaceutical-sciences-chulalongkorn-university.html\n",
            "\t0 2215 0871 – 7 (Secretary office)\n",
            "faculty-of-political-science-chulalongkorn-university.html\n",
            "\t0 2218 7250 – 3\n",
            "faculty-of-psychology-chulalongkorn-university.html\n",
            "\t0 2218 1189\n",
            "faculty-of-science-chulalongkorn-university.html\n",
            "\t0 2218 5000\n",
            "faculty-of-sports-science-chulalongkorn-university.html\n",
            "\t0 2218 1032\n",
            "faculty-of-veterinary-science-chulalongkorn-university.html\n",
            "\t0 2218 9771 – 3\n",
            "Number of Faculty: 19\n"
          ]
        }
      ],
      "source": [
        "# ---- TO DO 3 : Code Here ----\n",
        "\n",
        "stFacIdx = html.find(\"page-body\")\n",
        "edFacIdx = html.find(\"veterinary\", stFacIdx+1)\n",
        "\n",
        "idx = stFacIdx\n",
        "skip = True\n",
        "cnt = 0\n",
        "while True:\n",
        "    idx = html.find(\"href\", idx)\n",
        "    skip = not skip\n",
        "\n",
        "    if idx == -1 or idx > edFacIdx:\n",
        "        break\n",
        "\n",
        "    endIdx = html.find(\".html\", idx+1)\n",
        "    \n",
        "    if skip:\n",
        "        idx = endIdx + 1\n",
        "        continue\n",
        "    \n",
        "    link = html[idx+6: endIdx+5]\n",
        "\n",
        "    cnt += 1\n",
        "    name = link[link.find(\".io/\")+4: ]\n",
        "    print(name)\n",
        "\n",
        "    facHtml = str(urq.urlopen(link).read().decode('utf-8')).replace(\"</br>\", \"<br>\")\n",
        "    contactIdx = facHtml.find(\"id=\\\"section-contact\")\n",
        "    stTelIdx = facHtml.find(\"+66\", contactIdx)\n",
        "    edTelIdx = facHtml.find(\"<br>\", stTelIdx)\n",
        "    print(\"\\t\"+facHtml[stTelIdx: edTelIdx].replace(\"+66\", \"0\").replace(\"(0) \", \"\"))\n",
        "\n",
        "\n",
        "    idx = endIdx + 1\n",
        "\n",
        "print(f\"Number of Faculty: {cnt}\")\n",
        "\n"
      ]
    },
    {
      "cell_type": "markdown",
      "metadata": {
        "id": "O6qXu-BSkMhv"
      },
      "source": [
        "# TO DO 4: Crawl faculty of CP (1%)\n",
        "\n",
        "Current Faculty Members and Retired Faculty Members\n",
        "\n",
        "from https://www.cp.eng.chula.ac.th/en/about/faculty/\n",
        "\n",
        "*** Crawl only active members that have image ***\n",
        "\n",
        "**hint:** There are multiple strategies. To make it simple, we also accept a solution that list Dr. PITCHAYA as well. Another way is to check whether the image is the same filecmp.cmp https://docs.python.org/3/library/filecmp.html can do this. Or you can use if statements to exclude known exceptions.\n",
        "\n",
        "<img src=\"https://github.com/thcktw/Workshop2_Datascraping_Resource/raw/master/source/crawl_fac_member.png\" width=300>\n",
        "\n",
        "Correct image: https://drive.google.com/file/d/1MlAf9hyVJeZZVfUMFiMMJlN7Ip3sfrsS/view"
      ]
    },
    {
      "cell_type": "code",
      "execution_count": 9,
      "metadata": {
        "id": "DSh-mDUckMhw"
      },
      "outputs": [
        {
          "name": "stdout",
          "output_type": "stream",
          "text": [
            "Current Faculty Members\n",
            "\n",
            "PROF. DR. BOONSERM KIJSIRIKUL\n",
            "PROF. DR. PRABHAS CHONGSTITVATANA\n",
            "ASSOC. PROF. DR. ATHASIT SURARERKS\n",
            "ASSOC. PROF. DR. ATIWONG SUCHATO\n",
            "ASSOC. PROF. DR. CHOTIRAT RATANAMAHATANA\n",
            "ASSOC. PROF. DR. DUANGDAO  WICHADAKUL\n",
            "ASSOC. PROF. DR. KRERK PIROMSOPA\n",
            "ASSOC. PROF. DR. KULTIDA ROJVIBOONCHAI\n",
            "ASSOC. PROF. DR. NUTTAPONG CHENTANEZ\n",
            "ASSOC. PROF. DR. PEERAPON VATEEKUL\n",
            "ASSOC. PROF. DR. PROADPRAN PUNYABUKKANA\n",
            "ASSOC. PROF. DR. SETHA PAN-NGUM\n",
            "ASSOC. PROF. DR. TARATIP SUWANNASART\n",
            "ASSOC. PROF. DR. THANARAT CHALIDABHONGSE\n",
            "ASSOC. PROF. DR. TWITTIE SENIVONGSE\n",
            "ASSOC. PROF. DR. VISHNU KOTRAJARAS\n",
            "ASSOC. PROF. DR. WIWAT VATANAWOOD\n",
            "ASSOC. PROF. DR. YACHAI LIMPIYAKORN\n",
            "ASSOC. PROF. NAKORNTHIP PROMPOON\n",
            "ASST. PROF. DR. ARTHIT THONGTAK\n",
            "ASST. PROF. DR. ATTAWITH SUDSANG\n",
            "ASST. PROF. DR. KUNWADEE  SRIPANIDKULCHAI\n",
            "ASST. PROF. DR. NATAWUT NUPAIROJ\n",
            "ASST. PROF. DR. NATTEE NIPARNAN\n",
            "ASST. PROF. DR. PIZZANU KANONGCHAIYOS\n",
            "ASST. PROF. DR. SUKREE SINTHUPINYO\n",
            "ASST. PROF. DR. VEERA MUANGSIN\n",
            "ASST. PROF. CHATE PATANOTHAI\n",
            "DR. EKAPOL  CHUANGSUWANICH\n",
            "DR. JESSADA THUTKAWKORAPIN\n",
            "DR. NUENGWONG TUAYCHAROEN\n",
            "DR. PITCHAYA  SITTHI-AMORN\n",
            "DR. PITTIPOL  KANTAVAT\n",
            "DR. PUNNARAI  SIRICHAROEN\n",
            "THONGCHAI ROJAKANGSADAN\n",
            "\n",
            "Retired Faculty Members\n",
            "\n",
            "ASSOC. PROF. DR. PORNSIRI MUENCHAISRI\n",
            "Assc.Prof. Dr. SARTID VONGPRADHIP\n",
            "ASSOC. PROF. DR. SOMCHAI PRASITJUTRAKUL\n",
            "Assc.Prof. Dr. WANCHAI RIVEPIBOON\n",
            "Assc.Prof. MANDHANA PRAKANSAMUT\n",
            "Asst.Prof. Dr. SUEBSKUL PHIPHOBMONGKOL\n",
            "Asst.Prof. BOONCHAI SOWANWANICHAKUL\n",
            "Asst.Prof. Korbkul Tejavanija\n",
            "Asst. Prof. Sumet Vacharachaisurapol\n",
            "Asst.Prof. THANAWAN CHANTARATANAPIBUL\n",
            "Dr. YUNYONG TENG-AMNUAY\n"
          ]
        }
      ],
      "source": [
        "# ---- TO DO 4 : Code Here ----\n",
        "\n",
        "url = \"https://www.cp.eng.chula.ac.th/en/about/faculty/\"\n",
        "html = str(urq.urlopen(url).read().decode('utf-8')).replace(\"</br>\", \"<br>\")\n",
        "\n",
        "edFacIdx = html.find(\"THONGCHAI ROJAKANGSADAN\")\n",
        "idx = 0\n",
        "print(\"Current Faculty Members\\n\")\n",
        "while True:\n",
        "    idx = html.find(\"instructorRow\", idx)\n",
        "\n",
        "    if idx == -1 or idx > edFacIdx:\n",
        "        break\n",
        "\n",
        "    idx = html.find(\"<a\", idx+1)\n",
        "    idx = html.find(\"<p\", idx+1)\n",
        "\n",
        "    endIdx = html.find(\"</a>\", idx)\n",
        "    print(html[idx+3: endIdx].strip())\n",
        "    \n",
        "    # print(html[idx:endIdx])\n",
        "    # imgNameList.append(html[idx:endIdx+4].strip(\"data-srcset=\\\"\"))\n",
        "    # print(imgNameList[-1])\n",
        "    idx = endIdx\n",
        "\n",
        "\n",
        "print(\"\\nRetired Faculty Members\\n\")\n",
        "\n",
        "idx = html.find(\"Retired Faculty\")\n",
        "edFacIdx = html.find(\"Dr. YUNYONG TENG-AMNUAY\")\n",
        "while True:\n",
        "    idx = html.find(\"instructorRow\", idx)\n",
        "\n",
        "    if idx == -1 or idx > edFacIdx:\n",
        "        break\n",
        "\n",
        "    idx = html.find(\"<a\", idx+1)\n",
        "    idx = html.find(\"<p\", idx+1)\n",
        "\n",
        "    endIdx = html.find(\"</a>\", idx)\n",
        "    tmp = html[idx+3: idx+100].strip()[:5]\n",
        "    if \"Inter\" == tmp:\n",
        "        continue\n",
        "    \n",
        "    print(html[idx+3: idx+100].strip())\n",
        "    # print(html[idx:endIdx])\n",
        "    # imgNameList.append(html[idx:endIdx+4].strip(\"data-srcset=\\\"\"))\n",
        "    # print(imgNameList[-1])\n",
        "    idx = endIdx\n",
        "\n",
        "\n",
        "\n",
        "\n",
        "\n"
      ]
    },
    {
      "cell_type": "markdown",
      "metadata": {
        "id": "fmL5uX5RWp2f"
      },
      "source": [
        "# To Do 5\n",
        "\n",
        "ทดลองดึงข้อมูลจาก dek-d.com ดูสิ :)"
      ]
    },
    {
      "cell_type": "code",
      "execution_count": 38,
      "metadata": {
        "id": "6r8NQmAYkMhy"
      },
      "outputs": [],
      "source": [
        "dd_url = 'https://novel.dek-d.com/'"
      ]
    },
    {
      "cell_type": "markdown",
      "metadata": {
        "id": "kAFkUJU0YCaF"
      },
      "source": [
        "ลองรันโค๊ดบรรทัดด้านล่างดู"
      ]
    },
    {
      "cell_type": "code",
      "execution_count": null,
      "metadata": {
        "id": "GVrU9jG0XjvF"
      },
      "outputs": [],
      "source": [
        "html = str(urq.urlopen(dd_url).read().decode('utf-8'))"
      ]
    },
    {
      "cell_type": "markdown",
      "metadata": {
        "id": "O9G_ZbZsYMUh"
      },
      "source": [
        "จะพบว่าเกิด error ขึ้นเนื่องจากเว็บ dek-d มีการป้องกันไว้ \n",
        "\n",
        "หากเราต้อง scrape จะต้องส่ง user-agent เช่น Web-browser, Accept-Charset, Accept-Encoding เป็นต้น เพื่อหลอกเว็บไซต์ว่าเรากำลังใช้เว็บในการ request ข้อมูลเพจ"
      ]
    },
    {
      "cell_type": "code",
      "execution_count": 39,
      "metadata": {
        "id": "WeVk4zsWZLZ0"
      },
      "outputs": [],
      "source": [
        "headers={'User-Agent': 'Mozilla/5.0 (Windows; U; Windows NT 5.1; en-US; rv:1.9.0.7) Gecko/2009021910 Firefox/3.0.7'} \n",
        "\n",
        "\n",
        "dd_request = urq.Request(dd_url,None,headers) \n",
        "dd_html = str(urq.urlopen(dd_request).read().decode('utf-8'))"
      ]
    },
    {
      "cell_type": "markdown",
      "metadata": {
        "id": "HNO0U9aYf0Id"
      },
      "source": [
        "ลองดึงข้อมูล title นิยายจากเว็บ https://www.dek-d.com/home/writer/ ดูสิ!!!\n",
        "\n",
        "\n",
        "#### ตัวอย่าง output \n",
        "\n",
        "<img src=\"https://github.com/Mixelon-tera/Workshop2_Datascraping_Resource/raw/master/source/dek_d_fiction.png\" width=400>"
      ]
    },
    {
      "cell_type": "code",
      "execution_count": 44,
      "metadata": {
        "id": "OQjDoNJKXESX"
      },
      "outputs": [
        {
          "name": "stdout",
          "output_type": "stream",
          "text": [
            "1: เกิดอีกครั้งในยุค 80 ชาตินี้ไม่ใหญ่ไม่ได้\n",
            "2: 鬼怪 นางมาร (ปิดตอนวันที่ 1 กันยายน)\n",
            "3: (อ่านฟรีทุกวัน) ทะลุมิติไปเป็นแพทย์หญิงชนบทตัวน้อยๆ : ความมั่งคั่งร่ำรวยมาถึงประตูของท่านแล้ว [นิยายแปล]\n",
            "4: หลี่อี้เฟย\n",
            "5: (อ่านฟรีทุกวัน วันละ 2 ตอน) เกิดใหม่ชาตินี้ ขอเป็นเศรษฐีนีในยุค 80 [นิยายแปล]\n",
            "6: (อ่านฟรีทุกวัน วันละ 2 ตอน) คู่มือเศรษฐีนีชาวนาฉบับสาวน้อยทะลุมิติ [นิยายแปล]\n",
            "7: ทะลุมิติมาเป็นแม่ลูกสองในยุค1978\n",
            "8: จ้าวลู่ชิง คหบดีหญิงแห่งต้าถัง\n",
            "9: ใครส่งข้ามาป่วน\n",
            "10: พฤกษาสวรรค์หวนคืน\n",
            "11: (อ่านฟรีทุกวัน) ทะลุมิติไปเป็นภรรยาชาวสวนของท่านบัณฑิต [นิยายแปล]\n",
            "12: นางร้ายทะลุมิติไปเป็นคุณแม่ลูกสี่ยุค 70\n",
            "13: สาวใช้อันดับหนึ่ง\n",
            "14: ผักวิญญาณพวกนี้ฉันเป็นคนปลูก\n",
            "15: (อ่านฟรีทุกวัน วันละ 2 ตอน) ภรรยานายพรานตัวน้อยกับระบบร้านค้ามือสอง [นิยายแปล]\n",
            "16: [อ่านฟรีทุกวัน] ทะลุมิติไปเป็นสาวนาผู้ร่ำรวย [ 农女致富记 ]\n",
            "17: หนูน้อยสกุลถัง\n",
            "18: หมอหญิงทะลุมิติกับตำราวิเศษ\n",
            "19: (อ่านฟรีทุกวัน วันละ 2 ตอน) ทะลุมิติไปทำฟาร์มกับหมอหญิงตัวน้อย [นิยายแปล]\n",
            "20: ภารกิจพิชิตใจสามีในยุคปลาย70 (รีบอ่านก่อนติดเหรียญวันที่ 1 กันยายนนี้นะคะ)\n",
            "20\n"
          ]
        }
      ],
      "source": [
        "# ---- OPTIONAL : Code Here ----\n",
        "\n",
        "idx = dd_html.find(\"href=\\\"/#top-section\\\"\")\n",
        "cnt = 0\n",
        "while True:\n",
        "    idx = dd_html.find(\"card__title\", idx)\n",
        "    idx = dd_html.find(\">\", idx)\n",
        "\n",
        "    if idx == -1:\n",
        "        break\n",
        "\n",
        "    cnt += 1\n",
        "    endIdx = dd_html.find(\"</a>\", idx)\n",
        "    print(f\"{cnt}: {dd_html[idx+1: endIdx]}\")\n",
        "    \n",
        "    idx = endIdx\n",
        "\n",
        "print(cnt)\n"
      ]
    },
    {
      "cell_type": "code",
      "execution_count": null,
      "metadata": {
        "id": "sGP98yANbpsl"
      },
      "outputs": [],
      "source": []
    }
  ],
  "metadata": {
    "colab": {
      "collapsed_sections": [],
      "name": "00_web_scraping_with_str_functions_2021",
      "provenance": [],
      "toc_visible": true
    },
    "kernelspec": {
      "display_name": "Python 3.10.1 64-bit",
      "language": "python",
      "name": "python3"
    },
    "language_info": {
      "codemirror_mode": {
        "name": "ipython",
        "version": 3
      },
      "file_extension": ".py",
      "mimetype": "text/x-python",
      "name": "python",
      "nbconvert_exporter": "python",
      "pygments_lexer": "ipython3",
      "version": "3.10.1"
    },
    "vscode": {
      "interpreter": {
        "hash": "fb4569285eef3a3450cb62085a5b1e0da4bce0af555edc33dcf29baf3acc1368"
      }
    }
  },
  "nbformat": 4,
  "nbformat_minor": 0
}
