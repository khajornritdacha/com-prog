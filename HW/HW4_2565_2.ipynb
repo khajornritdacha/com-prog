{
  "cells": [
    {
      "cell_type": "markdown",
      "metadata": {
        "id": "YTDQanrJ86Vh"
      },
      "source": [
        "# HW4_StrFile_and_Dict: การบ้านครั้งที่ 4 เรื่อง String, File และ Dict\n",
        "\n",
        "\n"
      ]
    },
    {
      "cell_type": "markdown",
      "metadata": {
        "id": "mXvbUjnTOV2Y"
      },
      "source": [
        "**จุดมุ่งหมายของการบ้าน**\n",
        "*   เข้าใจและสามารถใช้งาน String, file และ Dict ได้\n",
        "\n"
      ]
    },
    {
      "cell_type": "markdown",
      "metadata": {
        "id": "DLvxhuA0NIzF"
      },
      "source": [
        "\n",
        "\n",
        "##**เริ่มต้น**\n",
        "1. ให้ copy file ไปที่ Google Drive ของนิสิตโดยเลือกเมนู File->Save a copy in Drive\n",
        "2. ไปที่ไฟล์ที่ copy มาแล้วตั้งชื่อไฟล์เป็น HW4_XXXXXXXXXX.ipynb เมื่อ XXXXXXXXXX คือรหัสนิสิต\n",
        "\n",
        "## <font color=red>สำคัญ: อ่านตรงนี้ด้วย\n",
        "## ข้อห้าม</font>\n",
        " - ห้ามใช้ set\n",
        " - ห้าม import ใด ๆ \n",
        " - ในฟังก์ชันต้องไม่ใช้ตัวแปรนอกฟังก์ชัน \n",
        " - ฟังก์ชันต้องไม่ print อะไรใด ๆ ทั้งสิ้น\n",
        " - ห้ามเปลี่ยนบรรทัด `def` ของฟังก์ชันที่ให้เขียน\n",
        " - ในกรณีที่ฟังก์ชันมีการคืนค่า ฟังก์ชันต้องคืนข้อมูลและประเภทข้อมูลตามที่กำหนดเท่านั้น\n",
        " - ฟังก์ชันต้องไม่เปลี่ยนแปลงข้อมูลภายในของพารามิเตอร์ที่ได้รับ \n",
        " - บรรทัดแรกของ code cell ที่เขียนต้องขึ้นต้นด้วย `# HW4_STRFILE_DICT` ตามที่ให้ไป ห้ามแก้ไขหรือเพิ่มอะไรเข้าไปก่อนหน้า\n",
        " - อนุญาตให้มีการเขียนฟังก์ชันเอง แต่ต้องเขียนในบริเวณที่กำหนด\n",
        "\n",
        "- <font color=red>ส่อทุจริต</font> เช่น  \n",
        " - ส่งโปรแกรมที่ผู้ส่งไม่สามารถอธิบายได้ว่า ใช้หลักการและทำงานอย่างไร\n",
        "  - หรือ ส่งโปรแกรมที่คล้ายกับโปรแกรมของผู้อื่นมาก ๆ (ไม่ว่าจะเป็นผู้ให้หรือผู้รับ จะตั้งใจหรือไม่ก็ตาม)\n",
        "  - ฉะนั้น\n",
        "    - ให้แน่ใจว่า ไม่ดูโปรแกรมของคนอื่น\n",
        "    - ให้แน่ใจว่า ไม่ได้ให้คนอื่นดูโปรแกรมของตัวเอง\n",
        "\n",
        "- หากพบว่า งานที่ส่งส่อทุจริต จะได้นิสิตจะได้ $0$ ใน<font color=red>การบ้านครั้งนี้ และการบ้านครั้งที่แล้ว ๆ</font>\n",
        "- จะตรวจให้คะแนน เมื่อ\n",
        " - แฟ้มที่ส่งครั้งหลังสุดใน MyCourseVille เป็นแฟ้มที่ตั้งชื่อตามที่กำหนด และเป็นแฟ้มที่ได้จากการ File->Download->Download .ipynb เท่านั้น (ไม่ใช่แฟ้ม .py แล้วมา rename เป็น .ipynb)\n",
        " - ฟังก์ชันที่เขียนส่งต้องอยู่ใน code cell ที่ให้มาเท่านั้น\n",
        " - ไม่ทำในสิ่งที่ห้ามทำในข้อห้าม\n",
        " - code cell ที่ให้เขียนสามารถทำงานได้ (ไม่มี error)\n",
        " - ให้แน่ใจว่า code ที่ส่งมา ไม่มี syntax error, indentation error หรืออื่น ๆ ที่ทำให้สั่งทำงาน code ไม่ได้ (ถ้ามี ก็ตรวจไม่ได้ ได้ 0)\n",
        "\n",
        "\n",
        "\n",
        "\n"
      ]
    },
    {
      "cell_type": "markdown",
      "metadata": {
        "id": "lgsq1C6oOkg_"
      },
      "source": [
        "##**การส่งงาน**\n"
      ]
    },
    {
      "cell_type": "markdown",
      "metadata": {
        "id": "v7-Ib0uROq3n"
      },
      "source": [
        "1. ส่งไฟล์ในรูปแบบ .ipynb ที่ได้จากการเลือกเมนู File->Download->Download .ipynb ของ Colab และส่งแฟ้ม ipynb นี้ใน MyCourseVille\n",
        "2. ตั้งชื่อไฟล์เป็น HW4_XXXXXXXXX.ipynb เมื่อ XXXXXXXXXX คือ รหัสนิสิต\n",
        "3. ส่งแฟ้ม .ipynb กี่ครั้งก็ได้ แต่จะตรวจแฟ้ม .ipynb **แฟ้มล่าสุด ที่ส่งภายในกำหนด** เท่านั้น\n",
        "4. <font color=\"red\">**กำหนดส่ง คือ ก่อน 23:59 น. ของพุธที่ 22 มีนาคม 2566**</font>"
      ]
    },
    {
      "cell_type": "markdown",
      "metadata": {
        "id": "Y8P2cJOlTMvz"
      },
      "source": [
        "# การบ้านครั้งที่ 4 : ภาพสแกนสามมิติความเสียหายของผลิตภัณฑ์"
      ]
    },
    {
      "cell_type": "markdown",
      "metadata": {
        "id": "RB72G2vdLFSq"
      },
      "source": [
        "โรงงานแห่งหนึ่งผลิตผลิตภัณฑ์ A ที่เป็นลักษณะเป็นทรงลูกบาศก์ โดยก่อนส่งออกผลิตภัณฑ์จะมีการตรวจสอบความเสียหายภายในของผลิตภัณฑ์ด้วยการสแกนด้วยเครื่องสแกนระดับสูง โดยเครื่องสแกนจะสแกนวัตถุเป็นจุดภาพสามมิติ โดยจะเก็บจุดภาพที่เป็นส่วนปกติของภาพด้วยเครื่องหมายลบ หรือ \"-\" จุดภาพที่มีความเสียหายเป็นเครื่องหมายบวก หรือ \"+\" โดยเก็บข้อมูลทั้งหมดในรูปแบบของแถวเดียว และเรียงลำดับแถวจากซ้ายไปขวาของด้านกว้าง ตามด้วยลำดับในด้านยาว และด้านสูง ดังแสดงในภาพด้านล่าง "
      ]
    },
    {
      "cell_type": "markdown",
      "metadata": {
        "id": "7MfFkbaOeBT8"
      },
      "source": [
        "<img src=\"https://mycourseville-default.s3.ap-southeast-1.amazonaws.com/useruploaded_course_files/2022_2/32196/materials/hw4-465640-16786856908373.jpg\"/>"
      ]
    },
    {
      "cell_type": "markdown",
      "metadata": {
        "id": "7wZku1W8Qzgt"
      },
      "source": [
        "ภาพสแกนสามมิติอาจะมีขนาดเล็กหรือใหญ่ขึ้นอยู่กับขนาดของแต่ละผลิตภัณฑ์ โดยข้อมูลของแต่ละผลิตภัณฑ์จะถูกเก็บเอาไว้ในไฟล์ข้อความ (text file) โดยชื่อไฟล์จะเป็นชื่อเดียวกับ product id (pid) เช่น ไฟล์นี้ชื่อ <font color=red>001.txt</font>  มีข้อมูลดังนี้\n",
        "```\n",
        "pid=001\n",
        "created_date=01012566\n",
        "factory_id=CBR1\n",
        "scan_data=-,-,+,+,-,-,-,-,-,-,-,-,-,-,-,-,-,-,-,-,-,-,-,-,-,-,-\n",
        "```\n",
        "โดยข้อมูลอาจจะมีการสลับลำดับกันได้ ในกรณีนี้แสดงว่าผลิตภัณฑ์รหัส 001 (pid=001) มีภาพ 3D สแกนขนาด 3x3x3 (เพราะมี 27 จุดภาพ) สามารถสั่งรันเซลล์ด้านล่างเพื่อดาวน์โหลดตัวอย่างไฟล์\n",
        "\n",
        "\n",
        "\n"
      ]
    },
    {
      "cell_type": "code",
      "execution_count": null,
      "metadata": {
        "id": "XmK5XhFxtnlv"
      },
      "outputs": [],
      "source": [
        "!wget https://drive.google.com/uc?id=1M_3Gg7hdYl-upQ7xSglEAdmezWI8vAwa -O 001.txt\n",
        "!wget https://drive.google.com/uc?id=1NxGYCWp8vDDjjqY3Fp3Nx2xQYrgpaVTX -O 002.txt\n",
        "!wget https://drive.google.com/uc?id=1Y1v5-LySLeILkeXl3X9aaWJHL-fsw6I0 -O 003.txt\n",
        "!wget https://drive.google.com/uc?id=1Zx0GYn_fAxkbRIsiAhQ--qK9YUy4I2Jp -O 004.txt\n",
        "!wget https://drive.google.com/uc?id=1pspsnd47pjJPjgxD1j64xI7UlsIFs6E8 -O 005.txt\n",
        "!wget https://drive.google.com/uc?id=1qMtSzs9aXiOJRjyUcZiWqX1ynnEJIZSq -O 007.txt\n",
        "!wget https://drive.google.com/uc?id=12NygZmUroTsum9THNZofmo85sz6oLltT -O 008.txt\n",
        "!wget https://drive.google.com/uc?id=11U2RqxOqwGijQJJh4CM2BB4tjfUHfZOx -O 009.txt\n",
        "!wget https://drive.google.com/uc?id=1Ib0e6o_sZlO-oNUDwhxEP-aPbVOYdcTn -O 010.txt\n",
        "!wget https://drive.google.com/uc?id=1jZneZrh21CQZk8-jQBPwB5BOpTmxbsU4 -O 199.txt\n",
        "!wget https://drive.google.com/uc?id=1i8BJM-4urPEtWt9hEiqckVBeZTD2z-Gz -O ABCD.txt"
      ]
    },
    {
      "cell_type": "markdown",
      "metadata": {
        "id": "WqmBa1SpORpR"
      },
      "source": [
        "## **งานของคุณ**\n",
        "\n"
      ]
    },
    {
      "cell_type": "markdown",
      "metadata": {
        "id": "baFphT4hVitf"
      },
      "source": [
        "จงเขียนฟังก์ชัน \n",
        "1. [8 คะแนน] get_product_from_file(textfile)\n",
        "  เพื่ออ่านไฟล์ข้อมูลผลิตภัณฑ์และคืน dict ที่เป็นข้อมูลของผลิตภัณฑ์นั้น\n",
        "  * textfile คือไฟล์ข้อมูลผลิตภัณฑ์อยู่ในรูปแบบ .txt \n",
        "  * คืนค่า dict ที่เป็นข้อมูลของผลิตภัณฑ์นั้น โดย key และ value ของ dict จะเป็นค่าก่อนและหลังเครื่องหมาย \"=\" ในไฟล์ข้อมูล\n",
        "  * ตัวอย่างด้านล่าง ข้อมูลทุกค่าอยู่ในรูปแบบของสตริง แต่วันที่ผลิต (created_date) จะมีการเปลี่ยนรูปแบบการแสดงผลจากสตริง เช่น \"01012566\" (มี 8 ตัวอักษรเสมอ) จะถูกใส่เป็น \"01/01/2566\" ใน dict เช่น\n",
        "    * get_product_from_file(\"001.txt\")\n",
        "      * คืนค่า \n",
        "```\n",
        "{'pid': '001', 'created_date': '01/01/2566', 'factory_id': 'CBR1', \n",
        "'scan_data': '-,-,+,+,-,-,-,-,-,-,-,-,-,-,-,-,-,-,-,-,-,-,-,-,-,-,-'}\n",
        "```\n",
        "    * get_product_from_file(\"008.txt\")\n",
        "      * คืนค่า \n",
        "```\n",
        "{'pid': '008', 'created_date': '12/06/2564', 'factory_id': 'CBR3', 'scan_data': '+,-,+,-,+,-,+,-,+,-,+,-,+,-,+,-,+,-,+,-,+,-,+,-,+,-,+,-,+,-,+,-,+,-,+,-,+,-,+,-,+,-,+,-,+,-,+,-,+,-,+,-,+,-,+,-,+,-,+,-,+,-,+,-'}\n",
        "```\n",
        "    * get_product_from_file(\"007.txt\")\n",
        "      * คืนค่า \n",
        "```\n",
        "{'created_date': '11/06/2564', 'pid': '007', 'factory_id': 'CBR3', 'scan_data': '-,-,-,-,-,-,-,-,-,-,-,-,-,-,-,-,-,-,-,-,-,-,-,-,-,-,-,-,-,-,-,-,-,-,-,-,-,-,-,-,-,-,-,-,-,-,-,-,-,-,-,-,-,-,-,-,-,-,-,-,-,-,-,-,-,-,-,-,-,-,-,-,-,-,-,-,-,-,-,-,-,-,-,-,-,-,-,-,-,-,-,-,+,-,-,-,-,+,-,-,-,-,-,-,-,-,-,-,-,-,-,-,-,-,-,-,-,-,-,-,-,-,-,-,-'}\n",
        "```\n",
        "\n",
        "    * <font color=\"red\">ในการสร้าง dict ระวังช่องว่างก่อนและหลังคำ พยายามให้ลบออกให้หมดก่อนใส่เข้าไปใน dict </font>\n",
        "    * ลำดับใน dict ไม่สำคัญ เวลาตรวจจะใช้ key ตรวจหา value ต่าง ๆ\n",
        "  \n",
        "\n",
        "---\n",
        "2. [8 คะแนน] cal_defect_ratio(textfile)\n",
        "  เพื่อคำนวณสัดส่วนระหว่างจำนวนจุดภาพความเสียหายเทียบจำนวนจุดภาพทั้งหมด    \n",
        "  * textfile เก็บข้อมูลเกี่ยวกับผลิตภัณฑ์และ scan_data ซึ่งเป็นสตริงแถวเดียวเก็บข้อมูลภาพสแกนสามมิติ เช่น  \n",
        "    ``` \n",
        "    scan_data = \"-,-,-,-,-,-,-,-,-,-,-,-,-,-,-,-,-,-,+,-,-,-,-,-,-,-,-\"\n",
        "    ```\n",
        "  * คืนค่า จำนวนจริงที่เป็นสัดส่วนระหว่างจำนวนจุดภาพความเสียหายเทียบจำนวนจุดภาพทั้งหมด ที่มีทศนิยม 2 ตำแหน่ง\n",
        "  * ตัวอย่างเช่น\n",
        "    * cal_defect_ratio(\"004.txt\") ในไฟล์มี scan_data เป็น\n",
        "    ``` \n",
        "    scan_data = \"-,-,-,-,-,-,-,-,-,-,-,-,-,-,-,-,-,-,+,-,-,-,-,-,-,-,-\"\n",
        "    ```\n",
        "      * คืนค่า 0.04 \n",
        "    * cal_defect_ratio(\"008.txt\") ในไฟล์มี scan_data เป็น\n",
        "      ``` \n",
        "scan_data = \"+,-,+,-,+,-,+,-,+,-,+,-,+,-,+,-,+,-,+,-,+,-,+,-,+,-,+,-,+,-,+,-,+,-,+,-,+,-,+,-,+,-,+,-,+,-,+,-,+,-,+,-,+,-,+,-,+,-,+,-,+,-,+,-\"\n",
        "  ``` \n",
        "      * คืนค่า 0.5 \n",
        "\n",
        "    * cal_defect_ratio(\"009.txt\") ในไฟล์มี scan_data เป็น\n",
        "      ``` \n",
        "  scan_data = \"+,+,+,+,+,+,+,+,+,+,+,+,+,+,+,+,+,+,+,+,+,+,+,+,+,+,+,+,+,+,+,+,+,+,+,+,+,+,+,+,+,+,+,+,+,+,+,+,+,+,+,+,+,+,+,+,+,+,+,+,+,+,+,+,+,+,+,+,+,+,+,+,+,+,+,+,+,+,+,+,+,+,+,+,+,+,+,+,+,+,+,+,+,+,+,+,+,+,+,+,+,+,+,+,+,+,+,+,+,+,+,+,+,+,+,+,+,+,+,+,+,+,+,+,+,+,+,+,-,-,-,+,+,+,+,+,+,+,+,+,+,+,+,+,+,+,+,+,+,+,+,+,+,+,+,+,+,+,+,+,+,+,+,+,+,+,+,+,+,+,+,+,+,+,+,+,+,+,+,+,+,+,+,+,+,+,+,+,+,+,+,+,+,+,+,+,+,+,+,+,+,+,+,+,+,+,+,+,+,+,+,+,+,+,+,+\"\n",
        "  ``` \n",
        "      * คืนค่า 0.99 \n",
        "\n",
        "\n",
        "---\n",
        "\n",
        "\n",
        "3. [16 คะแนน] cal_defect_box_ratio(textfile)\n",
        "  เพื่อคำนวณสัดส่วนของขนาดของรูปทรงสี่เหลี่ยมที่ครอบคลุมจุดภาพความเสียหายทั้งหมดเทียบกับจำนวนจุดภาพทั้งหมดในภาพสแกน\n",
        "  * textfile เก็บข้อมูลเกี่ยวกับผลิตภัณฑ์และ scan_data เป็นสตริงแถวเดียวเก็บข้อมูลภาพสแกนสามมิติ เช่น  \n",
        "    ``` \n",
        "    scan_data = \"-,-,-,-,-,-,-,-,-,-,-,-,-,-,-,-,-,-,+,-,-,-,-,-,-,-,-\"\n",
        "    ```\n",
        "  * คืนค่า จำนวนจริงที่เป็นสัดส่วนของขนาดของรูปทรงสี่เหลี่ยมที่ครอบคลุมจุดภาพความเสียหายทั้งหมดเทียบกับจำนวนจุดภาพทั้งหมดในภาพสแกน  ที่มีทศนิยม 2 ตำแหน่ง\n",
        "  * ตัวอย่างเช่น \n",
        "    * cal_defect_box_ratio(\"001.txt\") ในไฟล์มี scan_data เป็น\n",
        "    ``` \n",
        "    scan_data = \"-,-,+,+,-,-,-,-,-,-,-,-,-,-,-,-,-,-,-,-,-,-,-,-,-,-,-\"\n",
        "    ```\n",
        "      * คืนค่า 0.22\n",
        "    สามารถวาดเป็นภาพสแกนและคำนวณได้ดังด้านล่าง \n",
        "\n",
        "\n"
      ]
    },
    {
      "cell_type": "markdown",
      "metadata": {
        "id": "4jC681oTfjbR"
      },
      "source": [
        "<img src=\"https://mycourseville-default.s3.ap-southeast-1.amazonaws.com/useruploaded_course_files/2022_2/32196/materials/hw4_2-465640-16786861160314.png\" />"
      ]
    },
    {
      "attachments": {},
      "cell_type": "markdown",
      "metadata": {
        "id": "yomjga7l66da"
      },
      "source": [
        "3. (ต่อ)\n",
        "    \n",
        "    * cal_defect_box_ratio(\"008.txt\") ในไฟล์มี scan_data เป็น\n",
        "    ``` \n",
        "    scan_data = \"+,-,+,-,+,-,+,-,+,-,+,-,+,-,+,-,+,-,+,-,+,-,+,-,+,-,+,-,+,-,+,-,+,-,+,-,+,-,+,-,+,-,+,-,+,-,+,-,+,-,+,-,+,-,+,-,+,-,+,-,+,-,+,-\"\n",
        "    ```\n",
        "      * คืนค่า 0.75\n",
        "    * cal_defect_box_ratio(\"010.txt\") ในไฟล์มี scan_data เป็น\n",
        "    ``` \n",
        "    scan_data = \"+,+,+,+,+,+,+,+,+,+,+,+,+,+,+,+,+,+,+,+,+,+,+,+,+,+,+,+,+,+,+,+,+,+,+,+,+,+,+,+,+,+,+,+,+,+,+,+,+,+,+,+,+,+,+,+,+,+,+,+,+,+,+,+,+,+,+,+,+,+,+,+,-,-,-,-,-,-,-,-,-,-,-,-,-,-,-,-,-,-,-,-,-,-,-,-,-,-,-,-,-,-,-,-,-,-,-,-,-,-,-,-,-,-,-,-,-,-,-,-,-,-,-,-,-,-,-,-,-,-,-,-,-,-,-,-,-,-,-,-,-,-,-,-,-,-,-,-,-,-,-,-,-,-,-,-,-,-,-,-,-,-,-,-,-,-,-,-,-,-,-,-,-,-,-,-,-,-,-,-,-,-,-,-,-,-,-,-,-,-,-,-,-,-,-,-,-,-,-,-,-,-,-,-,-,-,-,-,-,-,-,-,-,-,-,-\"\n",
        "    ```\n",
        "      * คืนค่า 0.33\n",
        "\n",
        "\n",
        "---\n",
        "\n",
        "\n",
        "4. [10 คะแนน] create_prod_summary_file(pids)\n",
        "  เพื่อสร้างไฟล์สรุปเกี่ยวกับผลิตภัณฑ์ที่ให้ในรายการของรหัสผลิตภัณฑ์ หรือ product ids (pids) โดยให้ตั้งชื่อ \"product_summary.csv\" \n",
        "  * pids เป็นรายการของรหัสผลิตภัณฑ์ ตัวอย่างเช่น \n",
        "\n",
        "  ```\n",
        "  pids = [\"001\",\"003\",\"002\"]\n",
        "  ```\n",
        "  * ไม่มีการคืนค่า แต่จะเป็นการสร้างไฟล์สรุปในรูปแบบ csv ไฟล์ที่ให้ตั้งชื่อว่า \"product_summary.csv\" เท่านั้น โดยต้องสามารถอ่านข้อมูลของแต่ละผลิตภัณฑ์ตามรายการรหัสผลิตภัณฑ์ที่ให้ <font color=\"red\">(เรียบลำดับตามสตริง pid)</font> โดยในไฟล์สรุป csv สามารถแสดงในรูปแบบตารางได้จะต้องมีบรรทัดแรก (หัวตาราง) เป็นดังนี้\n",
        "  ```\n",
        "  pid,created_date,factory_id,defect_ratio,defect_box_ratio\n",
        "```\n",
        "<font color=\"red\">โดยวันที่ต้องมีรูปแบบดังแสดงตัวอย่างด้านล่าง</font>\n",
        "  * ตัวอย่าง\n",
        "    * ตัวอย่างที่ 1 \n",
        "    ```\n",
        "  pids = [\"001\",\"ABCD\",\"002\",\"008\"]\n",
        "  ```\n",
        "      * จะไม่มีการคืนค่า แต่สร้างไฟล์ \"product_summary.csv\" ที่ภายในเป็นดังนี้ โดยวันที่ต้องมีรูปแบบดังตัวอย่างด้านล่างนี้ด้วย\n",
        "  ```\n",
        "  pid,created_date,factory_id,defect_ratio,defect_box_ratio\n",
        "  001,01/01/2566,CBR1,0.07,0.22  \n",
        "  002,07/11/2563,CBR3,0.3,1.0  \n",
        "  008,12/06/2564,CBR3,0.5,0.75  \n",
        "  ABCD,12/06/2564,CBR3,0.07,0.07  \n",
        "  ```\n",
        "\n",
        "    * ตัวอย่างที่ 2 \n",
        "    ```\n",
        "  pids = [\"001\",\"199\",\"003\",\"004\",\"ABCD\",\"002\",\"010\",\"009\",\"008\",\"007\",\"005\"]\n",
        "  ```\n",
        "      * จะไม่มีการคืนค่าแต่สร้างไฟล์ \"product_summary.csv\" ที่ภายในเป็นดังนี้ \n",
        "      ```\n",
        "      pid,created_date,factory_id,defect_ratio,defect_box_ratio\n",
        "      001,01/01/2566,CBR1,0.07,0.22\n",
        "      002,07/11/2563,CBR3,0.3,1.0\n",
        "      003,11/12/2564,CBR2,0.11,0.3\n",
        "      004,01/01/2566,CBR1,0.04,0.04\n",
        "      005,08/12/2564,CBR3,0.15,0.44\n",
        "      007,11/06/2564,CBR3,0.02,0.02\n",
        "      008,12/06/2564,CBR3,0.5,0.75\n",
        "      009,08/11/2563,CBR2,0.99,1.0\n",
        "      010,12/06/2564,CBR3,0.33,0.33\n",
        "      199,08/12/2564,CBR3,0.0,0.0\n",
        "      ABCD,12/06/2564,CBR3,0.07,0.07\n",
        "    ```\n",
        "\n",
        "    * ตัวอย่างที่ 3 \n",
        "    ```\n",
        "  pids = []\n",
        "  ```\n",
        "      * จะไม่มีการคืนค่า และไม่มีการสร้างไฟล์ใดๆ\n",
        "\n",
        "---\n",
        "\n",
        "\n",
        "5. [8 คะแนน] create_size_summary_file(pids) สร้างไฟลสรุปในรูปแบบ CSV ที่สรุปจำนวน defect_box_ratio ที่ขนาดต่างๆ <font color=\"red\">เรียงตามขนาด S, M และ L เสมอ</font> โดย \n",
        "\n",
        "```\n",
        "* defect_box_ratio ที่น้อยกว่า 0.33 มีขนาด \"S\" \n",
        "* defect_box_ratio ที่มากกว่าหรือเท่ากับ 0.33 แต่น้อยกว่า 0.67 มีขนาด \"M\" \n",
        "* defect_box_ratio ที่มากกว่าหรือเท่ากับ 0.67 มีขนาด \"L\" \n",
        "```\n",
        "\n",
        "  * pids เป็นรายการของรหัสผลิตภัณฑ์ ตัวอย่างเช่น \n",
        "  ```\n",
        "  pids = [\"001\",\"003\",\"002\"]\n",
        "  ```\n",
        "  * ไม่มีการคืนค่า แต่จะเป็นการสร้างไฟล์สรุปในรูปแบบ csv ไฟล์ที่ให้ตั้งชื่อว่า \"size_summary.csv\" เท่านั้น โดยต้องสามารถอ่านข้อมูลของแต่ละผลิตภัณฑ์ตามรายการรหัสผลิตภัณฑ์ที่ให้ (เรียบลำดับตาม pid) โดยในไฟล์สรุป csv สามารถแสดงในรูปแบบตารางได้จะต้องมีบรรทัดแรก (หัวตาราง) เป็นดังนี้\n",
        "  ```\n",
        "  size,#\n",
        "```\n",
        "  * ตัวอย่าง\n",
        "\n",
        "    * ตัวอย่างที่ 1\n",
        "  ```\n",
        "  pids = [\"001\",\"009\",\"008\"]\n",
        "  ```\n",
        "      * จะไม่มีการคืนค่าแต่สร้างไฟล์ \"size_summary.csv\" ที่ภายในเป็นดังนี้ \n",
        "  ```\n",
        "  size,#\n",
        "  S,1\n",
        "  M,0\n",
        "  L,2\n",
        "  ```\n",
        "\n",
        "    * ตัวอย่างที่ 2 \n",
        "    ```\n",
        "pids = [\"001\",\"199\",\"003\",\"004\",\"002\",\"010\",\"009\",\"008\",\"007\",\"005\"]\n",
        "  ```\n",
        "      * จะไม่มีการคืนค่าแต่สร้างไฟล์ \"size_summary.csv\" ที่ภายในเป็นดังนี้ \n",
        "  ```\n",
        "  size,#\n",
        "  S,5\n",
        "  M,2\n",
        "  L,3\n",
        "  ```\n",
        "    * ตัวอย่างที่ 3 \n",
        "    ```\n",
        "  pids = []\n",
        "  ```\n",
        "      * จะไม่มีการคืนค่า และไม่มีการสร้างไฟล์ใดๆ"
      ]
    },
    {
      "cell_type": "markdown",
      "metadata": {
        "id": "Xo6tBLBHJQLf"
      },
      "source": [
        "---\n",
        "หมายเหตุ:\n",
        "1. ข้อมูลในไฟล์จะเก็บเป็นรูปแบบ csv คือเป็นข้อความที่คั่นด้วยเครื่องหมายจุลภาค (',') โดยมีบรรทัดแรกเป็นหัวตาราง ดังตัวอย่างด้านล่าง\n",
        "```\n",
        "pid,created_date,factory_id,defect_ratio,defect_box_ratio\n",
        "001,01/01/2566,CBR1,0.07,0.22\n",
        "002,07/11/2563,CBR3,0.3,1.0\n",
        "003,11/12/2564,CBR2,0.11,0.3\n",
        "004,01/01/2566,CBR1,0.04,0.04\n",
        "```\n",
        "\n",
        "ซึ่งสามารถแสดงผลในรูปแบบตารางได้ดังนี้ "
      ]
    },
    {
      "cell_type": "markdown",
      "metadata": {
        "id": "35T-ZLbaitGG"
      },
      "source": [
        "<img src=\"https://mycourseville-default.s3.ap-southeast-1.amazonaws.com/useruploaded_course_files/2022_2/32196/materials/hw4_3-465640-16786861420677.png\"/>"
      ]
    },
    {
      "cell_type": "markdown",
      "metadata": {
        "id": "e2C6dzhIWVQN"
      },
      "source": [
        "2. รหัสผลิตภัณฑ์ที่ใช้ตรวจจะมีไฟล์ผลิตภัณฑ์นั้นเสมอ\n",
        "3. ไฟล์ทดสอบอาจมีผลิตภัณฑ์ตั้งแต่ขนาด 3x3x3 ไปจนถึง 7x7x7\n",
        "4. ตรวจสอบตัวอักษรเล็กใหญ่ในการแสดงผลให้ดี เช่น ขนาด S, M, L จะเป็นตัวใหญ่หมด ส่วน key ของ dict จะเป็นตัวอักษรเล็ก (ตาม txt file ที่อ่านมา) pid หรือ factory_id อาจเป็นตัวเลขหรือตัวอักษรใด ๆ ก็ได้ (ตาม txt file ที่อ่านมา) เป็นต้น"
      ]
    },
    {
      "cell_type": "code",
      "execution_count": 54,
      "metadata": {
        "id": "GUrDtVSj6xBu"
      },
      "outputs": [],
      "source": [
        "# HW4_STRFILE_DICT (ไม่ลบหรือแก้ไขบรรทัดนี้ หรือเพิ่มอะไรก่อนบรรทัดนี้ โดยเด็ดขาด)\n",
        "# ดูรายละเอียดและตัวอย่างเพิ่มเติมในคำอธิบายด้านบน\n",
        "\n",
        "def get_product_from_file(textfile):\n",
        "  product = {}\n",
        "  file = open(textfile)\n",
        "  lines = file.readlines()\n",
        "  for line in lines:\n",
        "    raw = line.strip().split(\"=\")\n",
        "    product[raw[0].strip()] = raw[1].strip()\n",
        "\n",
        "  file.close()\n",
        "  return product\n",
        "\n",
        "\n",
        "#======================================\n",
        "def cal_defect_ratio(textfile):\n",
        "  product = get_product_from_file(textfile)\n",
        "  data = product[\"scan_data\"].split(\",\")\n",
        "  defect_ratio = data.count(\"+\")/len(data)\n",
        "  return round(defect_ratio,2)\n",
        "\n",
        "\n",
        "#======================================\n",
        "def cal_defect_box_ratio(textfile):\n",
        "  defect_box_ratio = 0  \n",
        "  productData = get_product_from_file(textfile)[\"scan_data\"]\n",
        "  dataList = productData.split(\",\")\n",
        "  \n",
        "  if dataList.count(\"+\") == 0: return 0.0\n",
        "\n",
        "  n = int(round(len(dataList) ** (1/3)))\n",
        "  cnt = 0\n",
        "  min_w = 100\n",
        "  min_l = 100\n",
        "  min_h = 100\n",
        "  max_w = -1\n",
        "  max_l = -1\n",
        "  max_h = -1\n",
        "  for h in range(1, n+1):\n",
        "    for l in range(1, n+1):\n",
        "      for w in range(1, n+1):\n",
        "        cnt += 1\n",
        "        if dataList[cnt-1] == \"-\": continue\n",
        "        min_w = min(min_w, w)\n",
        "        max_w = max(max_w, w)\n",
        "        min_l = min(min_l, l)\n",
        "        max_l = max(max_l, l)\n",
        "        min_h = min(min_h, h)\n",
        "        max_h = max(max_h, h)\n",
        "\n",
        "  defect_box_ratio = (max_w-min_w+1)*(max_l-min_l+1)*(max_h-min_h+1)/len(dataList)\n",
        "\n",
        "  return round(defect_box_ratio,2)\n",
        "\n",
        "\n",
        "#======================================\n",
        "def create_prod_summary_file(pids):\n",
        "  if len(pids) == 0: return\n",
        "  pids = sorted(pids)\n",
        "  csvFile = open(\"product_summary.csv\", \"w\")\n",
        "  csvFile.write(\"pid,created_date,factory_id,defect_ratio,defect_box_ratio\\n\")\n",
        "  for pid in pids:\n",
        "    fileName = pid + \".txt\"\n",
        "    data = get_product_from_file(fileName)\n",
        "    formattedString = \"\"\n",
        "    formattedString += pid + \",\"\n",
        "    formattedString += data[\"created_date\"] + \",\"\n",
        "    formattedString += data[\"factory_id\"] + \",\"\n",
        "    formattedString += str(cal_defect_ratio(fileName)) + \",\"\n",
        "    formattedString += str(cal_defect_box_ratio(fileName)) + \"\\n\"\n",
        "    csvFile.write(formattedString)\n",
        "  csvFile.close()\n",
        "\n",
        "  return\n",
        "\n",
        "\n",
        "#======================================\n",
        "def create_size_summary_file(pids):\n",
        "  if len(pids) == 0: return\n",
        "  csvFile = open(\"size_summary.csv.csv\", \"w\")\n",
        "  csvFile.write(\"size,#\\n\")\n",
        "  s = 0\n",
        "  m = 0\n",
        "  l = 0\n",
        "  for pid in pids:\n",
        "    fileName = pid + \".txt\"\n",
        "    ratio = cal_defect_box_ratio(fileName)\n",
        "    if ratio < 0.33:\n",
        "      s += 1\n",
        "    elif ratio < 0.67:\n",
        "      m += 1\n",
        "    else:\n",
        "      l += 1\n",
        "  csvFile.write(f\"S,{s}\\n\")\n",
        "  csvFile.write(f\"M,{m}\\n\")\n",
        "  csvFile.write(f\"L,{l}\\n\")\n",
        "  csvFile.close()\n",
        "  return\n",
        "\n",
        "\n",
        "\n",
        "\n",
        "#======================================\n",
        "# สามารถเขียนฟังก์ชันที่สร้างเองได้ในบริเวณด้านล่างนี้เท่านั้น \n",
        "\n",
        "\n",
        "# file = \"001.txt\"\n",
        "# print(get_product_from_file(file))\n",
        "# print(cal_defect_ratio(file))\n",
        "# print(cal_defect_box_ratio(file))\n",
        "# create_prod_summary_file([\"001\",\"ABCD\",\"002\",\"008\"])\n",
        "# create_prod_summary_file([\"001\",\"199\",\"003\",\"004\",\"ABCD\",\"002\",\"010\",\"009\",\"008\",\"007\",\"005\"])\n",
        "# create_prod_summary_file([])\n",
        "# create_size_summary_file([\"001\",\"009\",\"008\"])\n",
        "# create_size_summary_file([\"001\",\"199\",\"003\",\"004\",\"002\",\"010\",\"009\",\"008\",\"007\",\"005\"])\n",
        "# create_size_summary_file([])"
      ]
    }
  ],
  "metadata": {
    "colab": {
      "provenance": []
    },
    "kernelspec": {
      "display_name": "Python 3",
      "name": "python3"
    },
    "language_info": {
      "codemirror_mode": {
        "name": "ipython",
        "version": 3
      },
      "file_extension": ".py",
      "mimetype": "text/x-python",
      "name": "python",
      "nbconvert_exporter": "python",
      "pygments_lexer": "ipython3",
      "version": "3.10.1"
    }
  },
  "nbformat": 4,
  "nbformat_minor": 0
}
