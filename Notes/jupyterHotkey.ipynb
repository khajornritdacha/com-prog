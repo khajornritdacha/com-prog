{
 "cells": [
  {
   "cell_type": "markdown",
   "metadata": {},
   "source": [
    "# Hotkey\n",
    "<ul>  \n",
    "<li>Ctrl+S : Save</li>  \n",
    "<li>ESC : Change the cell mode  </li>\n",
    "<li>A : Add a cell above  </li>\n",
    "<li>B : Add a cell below  </li>\n",
    "<li>J or down arrow key : Change a cell to below  </li>\n",
    "<li>K or up arrow key : Change a cell to above  </li>\n",
    "<li>Ctrl+Enter : Run the currently selected cell  </li>\n",
    "<li>Shift+Enter : Run the currently selected cell and insert a new cell immediately below (focus moves to new cell)  </li>\n",
    "<li>Alt+Enter : Run the currently selected cell and insert a new cell immediately below (focus remains on current cell)  </li>\n",
    "<li>dd : Delete a selected cell  </li>\n",
    "<li>z : Undo the last change  </li>\n",
    "<li>M : switch the cell type to Markdown  </li>\n",
    "<li>Y : switch the cell type to code  </li>\n",
    "<li>L : Enable/Disable line numbers  </li>\n",
    "</ul>"
   ]
  }
 ],
 "metadata": {
  "kernelspec": {
   "display_name": "Python 3.10.1 ('env': venv)",
   "language": "python",
   "name": "python3"
  },
  "language_info": {
   "name": "python",
   "version": "3.10.1"
  },
  "orig_nbformat": 4,
  "vscode": {
   "interpreter": {
    "hash": "a72492077ca09b3fc629b1a31ee8a95f704ed04d3fbfa69484069d7d9111c1b1"
   }
  }
 },
 "nbformat": 4,
 "nbformat_minor": 2
}
