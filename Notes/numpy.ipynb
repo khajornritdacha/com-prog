{
 "cells": [
  {
   "cell_type": "code",
   "execution_count": 2,
   "metadata": {},
   "outputs": [],
   "source": [
    "import numpy as np"
   ]
  },
  {
   "cell_type": "markdown",
   "metadata": {},
   "source": [
    "## Basic"
   ]
  },
  {
   "cell_type": "markdown",
   "metadata": {},
   "source": [
    "### Declaration"
   ]
  },
  {
   "cell_type": "code",
   "execution_count": 3,
   "metadata": {},
   "outputs": [],
   "source": [
    "a0 = np.fromstring(input(), dtype=int, sep=\" \")\n",
    "a1 = np.zeros((3, 4))\n",
    "a2 = np.ones((4, 2), int)\n",
    "a3 = np.array([2, 13, 4, 9])\n",
    "a4 = np.array([[2, 13, 4, 9]])\n",
    "a5 = np.arange(1.00, 2.00, 0.01)\n",
    "a6 = np.identity(10)\n",
    "a7 = np.ndarray((10, 7), float)"
   ]
  },
  {
   "cell_type": "markdown",
   "metadata": {},
   "source": [
    "### Simple Arithmetric"
   ]
  },
  {
   "cell_type": "code",
   "execution_count": 11,
   "metadata": {},
   "outputs": [
    {
     "name": "stdout",
     "output_type": "stream",
     "text": [
      "36\n",
      "[[ 6  8]\n",
      " [10 12]]\n",
      "36\n",
      "40320\n",
      "1\n"
     ]
    }
   ],
   "source": [
    "a1 = [  [[1, 2], [3, 4]],\n",
    "        [[5, 6], [7, 8]] ]\n",
    "\n",
    "print( np.sum(a1) ) # Get sum of all elements\n",
    "print( np.sum(a1, axis=0) ) # axis = 0 -> down, 1 -> left, 2 -> depth\n",
    "\n",
    "print( np.sum(a1) ) # Get sum of all elements\n",
    "print( np.prod(a1) ) # Get product of all elements\n",
    "print( np.min(a1) )"
   ]
  },
  {
   "cell_type": "markdown",
   "metadata": {},
   "source": [
    "## Shape"
   ]
  },
  {
   "cell_type": "code",
   "execution_count": 4,
   "metadata": {},
   "outputs": [],
   "source": [
    "def number_of_rows(M):\n",
    "    return M.shape[0]\n",
    "    \n",
    "def number_of_cols(M):\n",
    "    return M.shape[1]"
   ]
  },
  {
   "cell_type": "markdown",
   "metadata": {},
   "source": [
    "### Triangle Shape"
   ]
  },
  {
   "cell_type": "code",
   "execution_count": 16,
   "metadata": {},
   "outputs": [
    {
     "name": "stdout",
     "output_type": "stream",
     "text": [
      "[[1 0 0]\n",
      " [4 5 0]\n",
      " [7 8 9]]\n",
      "[[1 2 3]\n",
      " [0 5 6]\n",
      " [0 0 9]]\n",
      "[[1. 0. 0.]\n",
      " [1. 1. 0.]\n",
      " [1. 1. 1.]]\n"
     ]
    }
   ],
   "source": [
    "arr = np.arange(1, 10).reshape(3, 3)\n",
    "print( np.tril(arr) )\n",
    "print( np.triu(arr) )"
   ]
  },
  {
   "cell_type": "markdown",
   "metadata": {},
   "source": [
    "### Transpose"
   ]
  },
  {
   "cell_type": "code",
   "execution_count": 5,
   "metadata": {},
   "outputs": [
    {
     "data": {
      "text/plain": [
       "array([[1],\n",
       "       [2],\n",
       "       [3]])"
      ]
     },
     "execution_count": 5,
     "metadata": {},
     "output_type": "execute_result"
    }
   ],
   "source": [
    "def transpose(A):\n",
    "    return A.reshape((1, A.shape[0])).T\n",
    "\n",
    "arr = [1, 2, 3]\n",
    "print( transpose(np.array(arr)) )\n",
    "print( arr[:, None] )"
   ]
  },
  {
   "cell_type": "markdown",
   "metadata": {},
   "source": [
    "### Read from string"
   ]
  },
  {
   "cell_type": "code",
   "execution_count": 6,
   "metadata": {},
   "outputs": [],
   "source": [
    "# R, C = list(map(int, input().split()))\n",
    "# A = np.zeros((R, C), int)\n",
    "# for r in range(R):\n",
    "#     A[r] = np.fromstring(input(), dtype=int, sep=\" \")\n",
    "# A"
   ]
  },
  {
   "cell_type": "markdown",
   "metadata": {},
   "source": [
    "### Index and Slicing"
   ]
  },
  {
   "cell_type": "code",
   "execution_count": 7,
   "metadata": {},
   "outputs": [
    {
     "data": {
      "text/plain": [
       "array([[ 0,  1,  2,  3,  4],\n",
       "       [ 5,  6,  7,  8,  9],\n",
       "       [10, 11, 12, 13, 14],\n",
       "       [15, 16, 17, 18, 19]])"
      ]
     },
     "execution_count": 7,
     "metadata": {},
     "output_type": "execute_result"
    }
   ],
   "source": [
    "A = np.arange(0, 20).reshape((4, 5))\n",
    "A"
   ]
  },
  {
   "cell_type": "code",
   "execution_count": 10,
   "metadata": {},
   "outputs": [
    {
     "data": {
      "text/plain": [
       "array([[ 0,  1,  2,  3,  4],\n",
       "       [ 5,  6,  7,  8,  9],\n",
       "       [10, 11, 12, 13, 14],\n",
       "       [15, 16, 17, 18, 19]])"
      ]
     },
     "execution_count": 10,
     "metadata": {},
     "output_type": "execute_result"
    }
   ],
   "source": [
    "r, c = A.shape\n",
    "a0 = A[A.shape[0] - 1, A.shape[1] - 1]\n",
    "a1 = A[:: 2]\n",
    "a2 = A[::, 1::2]\n",
    "a3 = A[0, ::2]\n",
    "a4 = A[1::2, 1]\n",
    "a5 = A[:r//2, :c//2] # Select second quadrant of array\n",
    "a6 = A[r//2:, c//2:] # Select fourth quadrant of array\n",
    "a7 = A[ [0, A.shape[0]-1] ] # Select only first row but all columns\n",
    "a8 = A[ :, [-1, 0]] # Select all row but only first and last column\n",
    "a9 = A[list(range(0, 4)) + list(range(5, A.shape[0]))]"
   ]
  },
  {
   "cell_type": "code",
   "execution_count": 11,
   "metadata": {},
   "outputs": [
    {
     "data": {
      "text/plain": [
       "array([[1, 2, 4],\n",
       "       [4, 3, 1],\n",
       "       [8, 7, 5]])"
      ]
     },
     "execution_count": 11,
     "metadata": {},
     "output_type": "execute_result"
    }
   ],
   "source": [
    "# Remove row i and column j from the matrix\n",
    "def submatrix(M, i, j):\n",
    "    R = list(range(M.shape[0]))\n",
    "    C = list(range(M.shape[1]))\n",
    "    return M[R[:i] + R[i+1: ]][:, C[:j] + C[j+1:]]\n",
    "submatrix(np.array([[1,2,3,4],[5,6,7,8],[4,3,2,1],[8,7,6,5]]), 1, 2)"
   ]
  },
  {
   "cell_type": "markdown",
   "metadata": {},
   "source": [
    "### Get index of all minimum elements"
   ]
  },
  {
   "cell_type": "code",
   "execution_count": 13,
   "metadata": {},
   "outputs": [
    {
     "name": "stdout",
     "output_type": "stream",
     "text": [
      "[0 6 8]\n"
     ]
    }
   ],
   "source": [
    "arr = np.array([0, 1, 2, 1, 2, 3, 0, 7, 0])\n",
    "print(np.where(arr == arr.min())[0])"
   ]
  }
 ],
 "metadata": {
  "kernelspec": {
   "display_name": "Python 3.10.1 ('env': venv)",
   "language": "python",
   "name": "python3"
  },
  "language_info": {
   "codemirror_mode": {
    "name": "ipython",
    "version": 3
   },
   "file_extension": ".py",
   "mimetype": "text/x-python",
   "name": "python",
   "nbconvert_exporter": "python",
   "pygments_lexer": "ipython3",
   "version": "3.10.1"
  },
  "orig_nbformat": 4,
  "vscode": {
   "interpreter": {
    "hash": "a72492077ca09b3fc629b1a31ee8a95f704ed04d3fbfa69484069d7d9111c1b1"
   }
  }
 },
 "nbformat": 4,
 "nbformat_minor": 2
}
